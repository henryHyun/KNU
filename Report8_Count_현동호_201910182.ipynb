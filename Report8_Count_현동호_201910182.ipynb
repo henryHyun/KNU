{
  "nbformat": 4,
  "nbformat_minor": 0,
  "metadata": {
    "colab": {
      "name": "Report8_Count_현동호_201910182.ipynb",
      "provenance": [],
      "collapsed_sections": [],
      "authorship_tag": "ABX9TyMhsYMN+wVlwYCj0Jc9DOX2",
      "include_colab_link": true
    },
    "kernelspec": {
      "name": "python3",
      "display_name": "Python 3"
    },
    "language_info": {
      "name": "python"
    }
  },
  "cells": [
    {
      "cell_type": "markdown",
      "metadata": {
        "id": "view-in-github",
        "colab_type": "text"
      },
      "source": [
        "<a href=\"https://colab.research.google.com/github/henryHyun/KNU/blob/main/Report8_Count_%ED%98%84%EB%8F%99%ED%98%B8_201910182.ipynb\" target=\"_parent\"><img src=\"https://colab.research.google.com/assets/colab-badge.svg\" alt=\"Open In Colab\"/></a>"
      ]
    },
    {
      "cell_type": "code",
      "execution_count": null,
      "metadata": {
        "id": "hBZEwE3YkvfD"
      },
      "outputs": [],
      "source": [
        "from collections import Counter\n",
        "\n",
        "sen1 = \"my name is henry good to see you.\"\n",
        "sen2 = \"my dream is to rise up for the good life for you\"\n",
        "\n",
        "sen1 = sen1.split()\n",
        "cnt = Counter(sen1)\n",
        "sen2 = sen2.split()\n",
        "cnt.update(sen2)\n",
        "print(cnt)\n",
        "mc = cnt.most_common(2)\n",
        "print(mc)"
      ]
    }
  ]
}