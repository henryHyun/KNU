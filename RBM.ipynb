{
  "nbformat": 4,
  "nbformat_minor": 0,
  "metadata": {
    "colab": {
      "name": "RBM",
      "provenance": [],
      "collapsed_sections": [],
      "authorship_tag": "ABX9TyPsd4zD9M85W9EuGLbS1WoB",
      "include_colab_link": true
    },
    "kernelspec": {
      "name": "python3",
      "display_name": "Python 3"
    },
    "language_info": {
      "name": "python"
    }
  },
  "cells": [
    {
      "cell_type": "markdown",
      "metadata": {
        "id": "view-in-github",
        "colab_type": "text"
      },
      "source": [
        "<a href=\"https://colab.research.google.com/github/henryHyun/KNU/blob/main/RBM.ipynb\" target=\"_parent\"><img src=\"https://colab.research.google.com/assets/colab-badge.svg\" alt=\"Open In Colab\"/></a>"
      ]
    },
    {
      "cell_type": "code",
      "metadata": {
        "colab": {
          "base_uri": "https://localhost:8080/",
          "height": 382
        },
        "id": "KN7laN7ND_Jf",
        "outputId": "a2f0769f-6efd-4c42-b819-7eda87ffd7a1"
      },
      "source": [
        "import numpy as np\n",
        "import torch\n",
        "import torch.utils.data\n",
        "import torch.nn as nn\n",
        "import torch.nn.functional as F\n",
        "import torch.optim as optim\n",
        "from torch.autograd import Variable\n",
        "from torchvision import datasets, transforms\n",
        "from torchvision.utils import make_grid\n",
        " \n",
        " \n",
        "#%% 시각화를 위해 필요한 함수\n",
        " \n",
        "# get_ipython().run_line_magic('matplotlib', 'inline') # inline 출력 필요한 경우 주석 처리 제거할 것.\n",
        "import matplotlib.pyplot as plt\n",
        " \n",
        "def show_adn_save(file_name,img):               # 이미지를 바꿔도 출력 가능? \n",
        "    npimg = np.transpose(img.numpy(),(1,2,0))\n",
        "    f = \"./%s.png\" % file_name\n",
        "    plt.imshow(npimg)\n",
        "    plt.imsave(f, npimg)\n",
        " \n",
        " \n",
        "#%% RBM 모듈 만들기\n",
        "class RBM(nn.Module):\n",
        "    def __init__(self,\n",
        "                 n_vis=784,\n",
        "                 n_hin=500,\n",
        "                 k=5):\n",
        "        super(RBM, self).__init__()\n",
        "        # 여타 initialization에 비해 이와 같은 방식이 학습이 제일 잘 됨.\n",
        "        self.W = nn.Parameter(torch.randn(n_hin,n_vis)*1e-2) \n",
        "        self.v_bias = nn.Parameter(torch.zeros(n_vis)) # bias는 0으로 초기화.\n",
        "        self.h_bias = nn.Parameter(torch.zeros(n_hin)) # bias는 0으로 초기화.\n",
        "        \n",
        "        self.k = k # Contrastive Divergence의 횟수\n",
        "    \n",
        "    def sample_from_p(self,p):\n",
        "        # Gibbs Sampling 과정\n",
        "        # 확률 계산 후 uniform distribution으로부터 얻은 값 보다 크면 1, 아니면 -1로 출력하고\n",
        "        # relu 함수를 이용해 -1로 출력된 값들은 모두 0으로 처리해버림.\n",
        "        p_ = p - Variable(torch.rand(p.size()))\n",
        "        p_sign = torch.sign(p_)\n",
        "        return F.relu(p_sign)\n",
        "    \n",
        "    def v_to_h(self,v):\n",
        "        # 주어진 visible units로부터 hidden unit을 sampling하는 과정\n",
        "        p_h = torch.sigmoid(F.linear(v,self.W,self.h_bias))\n",
        "        sample_h = self.sample_from_p(p_h)\n",
        "        return p_h,sample_h\n",
        "    \n",
        "    def h_to_v(self,h):\n",
        "        # hidden unit의 샘플로부터 visible unit을 다시 복원해보는 과정\n",
        "        p_v = torch.sigmoid(F.linear(h,self.W.t(),self.v_bias))\n",
        "        sample_v = self.sample_from_p(p_v)\n",
        "        return p_v,sample_v\n",
        "        \n",
        "    def forward(self,v):\n",
        "        # RBM에서 forward propagation은 visible -> hidden -> 다시 visible로 \n",
        "        # hidden unit과 visible unit을 샘플링 하는 과정을 말함.\n",
        "        pre_h1,h1 = self.v_to_h(v)\n",
        "        \n",
        "        h_ = h1\n",
        "        for _ in range(self.k): # Contrastive Divergence를 k 번 수행함.\n",
        "            pre_v_,v_ = self.h_to_v(h_)\n",
        "            pre_h_,h_ = self.v_to_h(v_)\n",
        "        \n",
        "        # 아래의 v는 입력으로 들어온 v이고 v_는 sampling으로 얻은 h로부터 다시 획득한 입력 샘플\n",
        "        return v,v_\n",
        "    \n",
        "    def free_energy(self,v):\n",
        "        # Free Energy 계산\n",
        "        vbias_term = v.mv(self.v_bias) # mv: matrix - vector product\n",
        "        wx_b = F.linear(v,self.W,self.h_bias)\n",
        "        \n",
        "        temp = torch.log(\n",
        "            torch.exp(wx_b) + 1\n",
        "            )\n",
        "        hidden_term = torch.sum(temp, dim = 1)\n",
        "        \n",
        "        return (-hidden_term - vbias_term).mean()\n",
        " \n",
        " \n",
        "#%% 데이터 셋 불러오기: MNIST 이용                                # 손으로 쓴 숫자를 모델링 한것 같다. 숫자를 읽고 숫자를 출력. \n",
        "batch_size = 64\n",
        "train_loader = torch.utils.data.DataLoader(\n",
        "    datasets.MNIST('./MNIST_data', train=True, download=True,\n",
        "                   transform=transforms.Compose([\n",
        "                       transforms.ToTensor()\n",
        "                   ])),\n",
        "    batch_size=batch_size)\n",
        " \n",
        "test_loader = torch.utils.data.DataLoader(\n",
        "    datasets.MNIST('./MNIST_data', train=False, transform=transforms.Compose([\n",
        "                       transforms.ToTensor()\n",
        "                   ])),\n",
        "    batch_size=batch_size)\n",
        " \n",
        " \n",
        "#%% RBM 모델 객체 및 최적화 함수 객체 만들기     # 수업시간에 했던거. optimizing process \n",
        " \n",
        "rbm = RBM(k=1) # CD의 k = 1로 설정. \n",
        "# 즉, visible unit을 딱 한번만 sampling 해주고 \n",
        "# 그걸로 원래의 visible unit의 데이터와 configuration 비교해서 loss로 삼겠다는 의미.\n",
        "train_op = optim.Adam(rbm.parameters(), 0.005) # 어떤 Optimizer를 넣어줘도 무관함.\n",
        " \n",
        "#%% RBM 학습\n",
        " \n",
        "for epoch in range(10):\n",
        "    loss_ = []\n",
        "    for _, (data,target) in enumerate(train_loader): # Stochastic Gradient Descent 수행함. # 경사하강법.....? 이거 이해안감  \n",
        "        data = Variable(data.view(-1,784))\n",
        "        sample_data = data.bernoulli() # RBM의 입력은 0 또는 1의 값만 가져야 함.\n",
        "        \n",
        "        v,v1 = rbm(sample_data)\n",
        "        loss = rbm.free_energy(v) - rbm.free_energy(v1)\n",
        "        loss_.append(loss.data.item())\n",
        "        train_op.zero_grad()\n",
        "        loss.backward() # RBM의 Backpropagation은 원래의 입력과 sampling 된 입력간의 차이를 줄여주는 과정 차이를 줄이면 오차가 줄어든다. \n",
        "        train_op.step()\n",
        "    \n",
        "    print(np.mean(loss_))\n",
        " \n",
        "#%% Test Data로부터 원본 데이터와 샘플링된 입력 데이터를 비교해보자.    # 맨 위의 Q처럼, test data를 내가 입력할 수 있다면? \n",
        " \n",
        "testset = datasets.MNIST('./MNIST_data', train=False, transform=transforms.Compose([\n",
        "                       transforms.ToTensor()\n",
        "                   ]))\n",
        " \n",
        "sample_data = testset.data[:32,:].view(-1, 784) # 총 32개 데이터를 받아옴. # 숫자가 32개. 하나씩 새어봤음. \n",
        "sample_data = sample_data.type(torch.FloatTensor)/255.\n",
        " \n",
        "v, v1 = rbm(sample_data) # v 와 v1 이 샘플 데이터에 저장된다. \n",
        "show_adn_save(\"real_testdata\",make_grid(v.view(32,1,28,28).data)) # 테스트 데이터 입력 \n",
        "show_adn_save(\"generated_testdata\",make_grid(v1.view(32,1,28,28).data))  # 모델링된 데이터 출력 \n",
        "\n",
        "# 꼭 숫자? \n",
        "# 파이썬에는 UTF-8코드가 심어져 있는데 이걸 기반으로 내가 손으로 영어 글씨를 쓰고 RBM에 입력하면 알아 들을까? \n",
        "# 데이터 크기 확장 가능? 32개의 숫자 말고, 홈페이지 전체 해석이나 번역 가능? \n",
        "# 경사하강법 시각화 가능? \n",
        "# 물리문제와 연계한다면 어떤 문제를? "
      ],
      "execution_count": null,
      "outputs": [
        {
          "output_type": "stream",
          "text": [
            "-4.538907878688658\n",
            "-1.218824341861424\n",
            "0.85719712507496\n",
            "1.762938900034565\n",
            "2.3119654868965718\n",
            "2.6086630750058304\n",
            "2.7589078142698895\n",
            "2.847526973244478\n",
            "2.9512514061510946\n",
            "2.999308978570804\n"
          ],
          "name": "stdout"
        },
        {
          "output_type": "display_data",
          "data": {
            "image/png": "[encoded data removed]",
            "text/plain": [
              "<Figure size 432x288 with 1 Axes>"
            ]
          },
          "metadata": {
            "tags": [],
            "needs_background": "light"
          }
        }
      ]
    },
    {
      "cell_type": "code",
      "metadata": {
        "id": "5n14-HUs3JyV"
      },
      "source": [
        ""
      ],
      "execution_count": null,
      "outputs": []
    }
  ]
}