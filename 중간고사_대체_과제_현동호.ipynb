{
  "nbformat": 4,
  "nbformat_minor": 0,
  "metadata": {
    "colab": {
      "name": "중간고사_대체_과제_현동호.ipynb",
      "provenance": [],
      "collapsed_sections": [],
      "include_colab_link": true
    },
    "kernelspec": {
      "name": "python3",
      "display_name": "Python 3"
    },
    "language_info": {
      "name": "python"
    }
  },
  "cells": [
    {
      "cell_type": "markdown",
      "metadata": {
        "id": "view-in-github",
        "colab_type": "text"
      },
      "source": [
        "<a href=\"https://colab.research.google.com/github/henryHyun/KNU/blob/main/%EC%A4%91%EA%B0%84%EA%B3%A0%EC%82%AC_%EB%8C%80%EC%B2%B4_%EA%B3%BC%EC%A0%9C_%ED%98%84%EB%8F%99%ED%98%B8.ipynb\" target=\"_parent\"><img src=\"https://colab.research.google.com/assets/colab-badge.svg\" alt=\"Open In Colab\"/></a>"
      ]
    },
    {
      "cell_type": "markdown",
      "metadata": {
        "id": "QCwmXoAxrNBw"
      },
      "source": [
        "# 중간고사 대체 과제 (Due: 10월 29일 금요일 오후 11시 59분)\n",
        "\n",
        "아래 코드는 statsmodel 패키지 내 Star98 데이터베이스를 다운로드 받아 이를 각각 df_festures, df_target DataFrame 객체로 저장하는 코드입니다. "
      ]
    },
    {
      "cell_type": "code",
      "metadata": {
        "id": "hOs7nCJ_Bf_t",
        "colab": {
          "base_uri": "https://localhost:8080/"
        },
        "outputId": "90cf3dbe-6cb3-4d72-97c0-222d7447eecf"
      },
      "source": [
        "import sympy as sp\n",
        "import numpy as np\n",
        "import matplotlib.pyplot as plt\n",
        "sp.init_printing(use_latex='mathjax')\n",
        "import copy\n",
        "import time\n",
        "\n",
        "import statsmodels.api as sm\n",
        "import statsmodels.formula.api as smf\n",
        "import statsmodels.graphics.api as smg\n",
        "import patsy\n",
        "import pandas as pd\n",
        "import seaborn as sns\n",
        "from scipy import stats\n",
        "\n",
        "df_features = sm.datasets.star98.load_pandas().exog\n",
        "df_target   = sm.datasets.star98.load_pandas().endog"
      ],
      "execution_count": 1,
      "outputs": [
        {
          "output_type": "stream",
          "name": "stderr",
          "text": [
            "/usr/local/lib/python3.7/dist-packages/statsmodels/tools/_testing.py:19: FutureWarning: pandas.util.testing is deprecated. Use the functions in the public API at pandas.testing instead.\n",
            "  import pandas.util.testing as tm\n"
          ]
        }
      ]
    },
    {
      "cell_type": "code",
      "metadata": {
        "id": "9-hY47IGBg_q",
        "colab": {
          "base_uri": "https://localhost:8080/",
          "height": 408
        },
        "outputId": "910a621c-d364-4619-9faf-6e6ff5db91a7"
      },
      "source": [
        "df_features"
      ],
      "execution_count": 2,
      "outputs": [
        {
          "output_type": "execute_result",
          "data": {
            "text/html": [
              "<div>\n",
              "<style scoped>\n",
              "    .dataframe tbody tr th:only-of-type {\n",
              "        vertical-align: middle;\n",
              "    }\n",
              "\n",
              "    .dataframe tbody tr th {\n",
              "        vertical-align: top;\n",
              "    }\n",
              "\n",
              "    .dataframe thead th {\n",
              "        text-align: right;\n",
              "    }\n",
              "</style>\n",
              "<table border=\"1\" class=\"dataframe\">\n",
              "  <thead>\n",
              "    <tr style=\"text-align: right;\">\n",
              "      <th></th>\n",
              "      <th>LOWINC</th>\n",
              "      <th>PERASIAN</th>\n",
              "      <th>PERBLACK</th>\n",
              "      <th>PERHISP</th>\n",
              "      <th>PERMINTE</th>\n",
              "      <th>AVYRSEXP</th>\n",
              "      <th>AVSALK</th>\n",
              "      <th>PERSPENK</th>\n",
              "      <th>PTRATIO</th>\n",
              "      <th>PCTAF</th>\n",
              "      <th>PCTCHRT</th>\n",
              "      <th>PCTYRRND</th>\n",
              "      <th>PERMINTE_AVYRSEXP</th>\n",
              "      <th>PERMINTE_AVSAL</th>\n",
              "      <th>AVYRSEXP_AVSAL</th>\n",
              "      <th>PERSPEN_PTRATIO</th>\n",
              "      <th>PERSPEN_PCTAF</th>\n",
              "      <th>PTRATIO_PCTAF</th>\n",
              "      <th>PERMINTE_AVYRSEXP_AVSAL</th>\n",
              "      <th>PERSPEN_PTRATIO_PCTAF</th>\n",
              "    </tr>\n",
              "  </thead>\n",
              "  <tbody>\n",
              "    <tr>\n",
              "      <th>0</th>\n",
              "      <td>34.39730</td>\n",
              "      <td>23.299300</td>\n",
              "      <td>14.235280</td>\n",
              "      <td>11.411120</td>\n",
              "      <td>15.918370</td>\n",
              "      <td>14.70646</td>\n",
              "      <td>59.15732</td>\n",
              "      <td>4.445207</td>\n",
              "      <td>21.71025</td>\n",
              "      <td>57.03276</td>\n",
              "      <td>0.0</td>\n",
              "      <td>22.222220</td>\n",
              "      <td>234.102872</td>\n",
              "      <td>941.68811</td>\n",
              "      <td>869.9948</td>\n",
              "      <td>96.50656</td>\n",
              "      <td>253.52242</td>\n",
              "      <td>1238.1955</td>\n",
              "      <td>13848.8985</td>\n",
              "      <td>5504.0352</td>\n",
              "    </tr>\n",
              "    <tr>\n",
              "      <th>1</th>\n",
              "      <td>17.36507</td>\n",
              "      <td>29.328380</td>\n",
              "      <td>8.234897</td>\n",
              "      <td>9.314884</td>\n",
              "      <td>13.636360</td>\n",
              "      <td>16.08324</td>\n",
              "      <td>59.50397</td>\n",
              "      <td>5.267598</td>\n",
              "      <td>20.44278</td>\n",
              "      <td>64.62264</td>\n",
              "      <td>0.0</td>\n",
              "      <td>0.000000</td>\n",
              "      <td>219.316851</td>\n",
              "      <td>811.41756</td>\n",
              "      <td>957.0166</td>\n",
              "      <td>107.68435</td>\n",
              "      <td>340.40609</td>\n",
              "      <td>1321.0664</td>\n",
              "      <td>13050.2233</td>\n",
              "      <td>6958.8468</td>\n",
              "    </tr>\n",
              "    <tr>\n",
              "      <th>2</th>\n",
              "      <td>32.64324</td>\n",
              "      <td>9.226386</td>\n",
              "      <td>42.406310</td>\n",
              "      <td>13.543720</td>\n",
              "      <td>28.834360</td>\n",
              "      <td>14.59559</td>\n",
              "      <td>60.56992</td>\n",
              "      <td>5.482922</td>\n",
              "      <td>18.95419</td>\n",
              "      <td>53.94191</td>\n",
              "      <td>0.0</td>\n",
              "      <td>0.000000</td>\n",
              "      <td>420.854496</td>\n",
              "      <td>1746.49488</td>\n",
              "      <td>884.0537</td>\n",
              "      <td>103.92435</td>\n",
              "      <td>295.75929</td>\n",
              "      <td>1022.4252</td>\n",
              "      <td>25491.1232</td>\n",
              "      <td>5605.8777</td>\n",
              "    </tr>\n",
              "    <tr>\n",
              "      <th>3</th>\n",
              "      <td>11.90953</td>\n",
              "      <td>13.883090</td>\n",
              "      <td>3.796973</td>\n",
              "      <td>11.443110</td>\n",
              "      <td>11.111110</td>\n",
              "      <td>14.38939</td>\n",
              "      <td>58.33411</td>\n",
              "      <td>4.165093</td>\n",
              "      <td>21.63539</td>\n",
              "      <td>49.06103</td>\n",
              "      <td>0.0</td>\n",
              "      <td>7.142857</td>\n",
              "      <td>159.882095</td>\n",
              "      <td>648.15671</td>\n",
              "      <td>839.3923</td>\n",
              "      <td>90.11341</td>\n",
              "      <td>204.34375</td>\n",
              "      <td>1061.4545</td>\n",
              "      <td>9326.5797</td>\n",
              "      <td>4421.0568</td>\n",
              "    </tr>\n",
              "    <tr>\n",
              "      <th>4</th>\n",
              "      <td>36.88889</td>\n",
              "      <td>12.187500</td>\n",
              "      <td>76.875000</td>\n",
              "      <td>7.604167</td>\n",
              "      <td>43.589740</td>\n",
              "      <td>13.90568</td>\n",
              "      <td>63.15364</td>\n",
              "      <td>4.324902</td>\n",
              "      <td>18.77984</td>\n",
              "      <td>52.38095</td>\n",
              "      <td>0.0</td>\n",
              "      <td>0.000000</td>\n",
              "      <td>606.144976</td>\n",
              "      <td>2752.85075</td>\n",
              "      <td>878.1943</td>\n",
              "      <td>81.22097</td>\n",
              "      <td>226.54248</td>\n",
              "      <td>983.7059</td>\n",
              "      <td>38280.2616</td>\n",
              "      <td>4254.4314</td>\n",
              "    </tr>\n",
              "    <tr>\n",
              "      <th>...</th>\n",
              "      <td>...</td>\n",
              "      <td>...</td>\n",
              "      <td>...</td>\n",
              "      <td>...</td>\n",
              "      <td>...</td>\n",
              "      <td>...</td>\n",
              "      <td>...</td>\n",
              "      <td>...</td>\n",
              "      <td>...</td>\n",
              "      <td>...</td>\n",
              "      <td>...</td>\n",
              "      <td>...</td>\n",
              "      <td>...</td>\n",
              "      <td>...</td>\n",
              "      <td>...</td>\n",
              "      <td>...</td>\n",
              "      <td>...</td>\n",
              "      <td>...</td>\n",
              "      <td>...</td>\n",
              "      <td>...</td>\n",
              "    </tr>\n",
              "    <tr>\n",
              "      <th>298</th>\n",
              "      <td>62.23968</td>\n",
              "      <td>13.820860</td>\n",
              "      <td>3.956157</td>\n",
              "      <td>32.128790</td>\n",
              "      <td>15.884480</td>\n",
              "      <td>13.27089</td>\n",
              "      <td>52.88133</td>\n",
              "      <td>4.324174</td>\n",
              "      <td>20.98711</td>\n",
              "      <td>8.00000</td>\n",
              "      <td>0.0</td>\n",
              "      <td>18.181820</td>\n",
              "      <td>210.801187</td>\n",
              "      <td>839.99243</td>\n",
              "      <td>701.7823</td>\n",
              "      <td>90.75192</td>\n",
              "      <td>34.59339</td>\n",
              "      <td>167.8969</td>\n",
              "      <td>11147.4471</td>\n",
              "      <td>726.0153</td>\n",
              "    </tr>\n",
              "    <tr>\n",
              "      <th>299</th>\n",
              "      <td>46.16188</td>\n",
              "      <td>1.150575</td>\n",
              "      <td>0.800400</td>\n",
              "      <td>45.622810</td>\n",
              "      <td>13.333330</td>\n",
              "      <td>11.80714</td>\n",
              "      <td>48.42615</td>\n",
              "      <td>3.945069</td>\n",
              "      <td>19.85830</td>\n",
              "      <td>53.77358</td>\n",
              "      <td>0.0</td>\n",
              "      <td>0.000000</td>\n",
              "      <td>157.428494</td>\n",
              "      <td>645.68184</td>\n",
              "      <td>571.7743</td>\n",
              "      <td>78.34236</td>\n",
              "      <td>212.14048</td>\n",
              "      <td>1067.8519</td>\n",
              "      <td>7623.6559</td>\n",
              "      <td>4212.7494</td>\n",
              "    </tr>\n",
              "    <tr>\n",
              "      <th>300</th>\n",
              "      <td>43.41431</td>\n",
              "      <td>3.648564</td>\n",
              "      <td>1.541204</td>\n",
              "      <td>46.319980</td>\n",
              "      <td>21.377670</td>\n",
              "      <td>14.40468</td>\n",
              "      <td>53.79616</td>\n",
              "      <td>3.845481</td>\n",
              "      <td>22.70884</td>\n",
              "      <td>29.89247</td>\n",
              "      <td>0.0</td>\n",
              "      <td>6.666667</td>\n",
              "      <td>307.938495</td>\n",
              "      <td>1150.03656</td>\n",
              "      <td>774.9165</td>\n",
              "      <td>87.32641</td>\n",
              "      <td>114.95093</td>\n",
              "      <td>678.8233</td>\n",
              "      <td>16565.9086</td>\n",
              "      <td>2610.4022</td>\n",
              "    </tr>\n",
              "    <tr>\n",
              "      <th>301</th>\n",
              "      <td>70.62104</td>\n",
              "      <td>20.461720</td>\n",
              "      <td>2.989345</td>\n",
              "      <td>17.423050</td>\n",
              "      <td>11.032860</td>\n",
              "      <td>16.56420</td>\n",
              "      <td>61.70566</td>\n",
              "      <td>3.970984</td>\n",
              "      <td>24.88647</td>\n",
              "      <td>15.14286</td>\n",
              "      <td>0.0</td>\n",
              "      <td>13.636360</td>\n",
              "      <td>182.750500</td>\n",
              "      <td>680.78991</td>\n",
              "      <td>1022.1049</td>\n",
              "      <td>98.82377</td>\n",
              "      <td>60.13205</td>\n",
              "      <td>376.8523</td>\n",
              "      <td>11276.7402</td>\n",
              "      <td>1496.4746</td>\n",
              "    </tr>\n",
              "    <tr>\n",
              "      <th>302</th>\n",
              "      <td>77.74827</td>\n",
              "      <td>5.998899</td>\n",
              "      <td>9.576225</td>\n",
              "      <td>11.117230</td>\n",
              "      <td>7.874016</td>\n",
              "      <td>16.91871</td>\n",
              "      <td>65.09957</td>\n",
              "      <td>6.913397</td>\n",
              "      <td>20.03252</td>\n",
              "      <td>23.52941</td>\n",
              "      <td>0.0</td>\n",
              "      <td>0.000000</td>\n",
              "      <td>133.218193</td>\n",
              "      <td>512.59506</td>\n",
              "      <td>1101.4007</td>\n",
              "      <td>138.49276</td>\n",
              "      <td>162.66815</td>\n",
              "      <td>471.3534</td>\n",
              "      <td>8672.4471</td>\n",
              "      <td>3258.6530</td>\n",
              "    </tr>\n",
              "  </tbody>\n",
              "</table>\n",
              "<p>303 rows × 20 columns</p>\n",
              "</div>"
            ],
            "text/plain": [
              "       LOWINC   PERASIAN  ...  PERMINTE_AVYRSEXP_AVSAL  PERSPEN_PTRATIO_PCTAF\n",
              "0    34.39730  23.299300  ...               13848.8985              5504.0352\n",
              "1    17.36507  29.328380  ...               13050.2233              6958.8468\n",
              "2    32.64324   9.226386  ...               25491.1232              5605.8777\n",
              "3    11.90953  13.883090  ...                9326.5797              4421.0568\n",
              "4    36.88889  12.187500  ...               38280.2616              4254.4314\n",
              "..        ...        ...  ...                      ...                    ...\n",
              "298  62.23968  13.820860  ...               11147.4471               726.0153\n",
              "299  46.16188   1.150575  ...                7623.6559              4212.7494\n",
              "300  43.41431   3.648564  ...               16565.9086              2610.4022\n",
              "301  70.62104  20.461720  ...               11276.7402              1496.4746\n",
              "302  77.74827   5.998899  ...                8672.4471              3258.6530\n",
              "\n",
              "[303 rows x 20 columns]"
            ]
          },
          "metadata": {},
          "execution_count": 2
        }
      ]
    },
    {
      "cell_type": "code",
      "metadata": {
        "colab": {
          "base_uri": "https://localhost:8080/",
          "height": 408
        },
        "id": "46HGqC6tBsfm",
        "outputId": "ba652a46-055c-4c86-cf6c-d6f11e51f4d4"
      },
      "source": [
        "df_target"
      ],
      "execution_count": 3,
      "outputs": [
        {
          "output_type": "execute_result",
          "data": {
            "text/html": [
              "<div>\n",
              "<style scoped>\n",
              "    .dataframe tbody tr th:only-of-type {\n",
              "        vertical-align: middle;\n",
              "    }\n",
              "\n",
              "    .dataframe tbody tr th {\n",
              "        vertical-align: top;\n",
              "    }\n",
              "\n",
              "    .dataframe thead th {\n",
              "        text-align: right;\n",
              "    }\n",
              "</style>\n",
              "<table border=\"1\" class=\"dataframe\">\n",
              "  <thead>\n",
              "    <tr style=\"text-align: right;\">\n",
              "      <th></th>\n",
              "      <th>NABOVE</th>\n",
              "      <th>NBELOW</th>\n",
              "    </tr>\n",
              "  </thead>\n",
              "  <tbody>\n",
              "    <tr>\n",
              "      <th>0</th>\n",
              "      <td>452.0</td>\n",
              "      <td>355.0</td>\n",
              "    </tr>\n",
              "    <tr>\n",
              "      <th>1</th>\n",
              "      <td>144.0</td>\n",
              "      <td>40.0</td>\n",
              "    </tr>\n",
              "    <tr>\n",
              "      <th>2</th>\n",
              "      <td>337.0</td>\n",
              "      <td>234.0</td>\n",
              "    </tr>\n",
              "    <tr>\n",
              "      <th>3</th>\n",
              "      <td>395.0</td>\n",
              "      <td>178.0</td>\n",
              "    </tr>\n",
              "    <tr>\n",
              "      <th>4</th>\n",
              "      <td>8.0</td>\n",
              "      <td>57.0</td>\n",
              "    </tr>\n",
              "    <tr>\n",
              "      <th>...</th>\n",
              "      <td>...</td>\n",
              "      <td>...</td>\n",
              "    </tr>\n",
              "    <tr>\n",
              "      <th>298</th>\n",
              "      <td>96.0</td>\n",
              "      <td>246.0</td>\n",
              "    </tr>\n",
              "    <tr>\n",
              "      <th>299</th>\n",
              "      <td>37.0</td>\n",
              "      <td>117.0</td>\n",
              "    </tr>\n",
              "    <tr>\n",
              "      <th>300</th>\n",
              "      <td>208.0</td>\n",
              "      <td>387.0</td>\n",
              "    </tr>\n",
              "    <tr>\n",
              "      <th>301</th>\n",
              "      <td>199.0</td>\n",
              "      <td>510.0</td>\n",
              "    </tr>\n",
              "    <tr>\n",
              "      <th>302</th>\n",
              "      <td>72.0</td>\n",
              "      <td>84.0</td>\n",
              "    </tr>\n",
              "  </tbody>\n",
              "</table>\n",
              "<p>303 rows × 2 columns</p>\n",
              "</div>"
            ],
            "text/plain": [
              "     NABOVE  NBELOW\n",
              "0     452.0   355.0\n",
              "1     144.0    40.0\n",
              "2     337.0   234.0\n",
              "3     395.0   178.0\n",
              "4       8.0    57.0\n",
              "..      ...     ...\n",
              "298    96.0   246.0\n",
              "299    37.0   117.0\n",
              "300   208.0   387.0\n",
              "301   199.0   510.0\n",
              "302    72.0    84.0\n",
              "\n",
              "[303 rows x 2 columns]"
            ]
          },
          "metadata": {},
          "execution_count": 3
        }
      ]
    },
    {
      "cell_type": "markdown",
      "metadata": {
        "id": "0Rv1vWA1sTak"
      },
      "source": [
        "위 데이터는 1998년 미국 캘리포니아 교육부에서 초중고등학생들을 대상으로 (2nd ~ 11th grade) 실시한 지역(county)별 수학 과목 학력평가 시험 결과 및 각 지역 내 학업 성적과 관련이 있을 수 있는 변수들을 조사한 결과를 담고 있습니다. 각 feature들에 대한 설명은 다음과 같습니다. (자세한 설명은 [여기를](https://www.statsmodels.org/stable/datasets/generated/star98.html) 참조)\n",
        "\n",
        "*   df_target 내에서:\n",
        ">* **NABOVE**: 해당 지역 내 전국 성적 중앙값을 넘은 점수를 받은 학생들의 수.\n",
        ">* **NBELOW**: 해당 지역 내 전국 성적 중앙값에 미치지 못하는 점수를 받은 학생들의 수 (따라서, NABOVE + NBELOW = 해당 지역 총 학생 수).\n",
        "\n",
        "* df_features 내에서:\n",
        ">* **LOWINC**: 해당 지역 내 저소득층 학생 비율.\n",
        ">* **PERASIAN**: 해당 지역 내 아시아계 학생 비율.\n",
        ">* **PERBLACK**: 해당 지역 내 흑인 학생 비율.\n",
        ">* **PERHISP**: 해당 지역 내 히스패닉 학생 비율.\n",
        ">* **PERMINTE**: 해당 지역 내 소수인종 교사 비율.\n",
        ">* **AVYRSEXP**: 해당 지역 내 교사 평균 근속년수.\n",
        ">* **AVSALK**: 해당 지역 내 교사 평균 연봉 (단위: 1000달러). \n",
        ">* **PERSPENK**: 해당 지역 내 학생 1명당 교육 예산 지출 (단위: 1000달러). \n",
        ">* **PTRATIO**: 해당 지역 내 교사 1명 당 학생 수.\n",
        ">* **PCTAF**: 해당 지역 내 캘리포니아 주립대에서 제공하는 prep course(물리, 화학, 생물 등의 과학 과목을 대학교에서 미리 배울 수 있는 제도)를 수강하는 학생 비율. \n",
        ">* **PCTCHRT**: 해당 지역 내 차터 스쿨 (https://ko.wikipedia.org/wiki/차터_스쿨) 비율.\n",
        ">* **PCTYRRND**: 해당 지역 내 year-round 스쿨 (https://www.edweek.org/leadership/year-round-schooling-explained/2015/12) 비율. \n",
        ">* **PERMINTE_AVYRSEXP** = PERMINTE * AVYRSEXP.\n",
        ">* **PEMINTE_AVSAL** = PERMINTE * AVSALK. \n",
        ">* **AVYRSEXP_AVSAL** = AVYRSEXP * AVSALK. \n",
        ">* **PERSPEN_PTRATIO** = PERSPENK * PTRATIO.\n",
        ">* **PERSPEN_PCTAF** = PERSPENK * PCTAF.\n",
        ">* **PTRATIO_PCTAF** = PTRATIO * PCTAF. \n",
        ">* **PERMINTE_AVTRSEXP_AVSAL** = PERMINTE * AVYRSEXP * AVSALK. "
      ]
    },
    {
      "cell_type": "markdown",
      "metadata": {
        "id": "cec3RacVzCay"
      },
      "source": [
        "## 문제: \n",
        "위 자료들을 이용하여, 학생들의 학업 성적과 다른 변수들 사이의 관계를 설명하는 통계적 모델을 만들고, 이를 통해 학생들의 성적에 중요한 영향을 끼치는 요인들에 어떤 것들이 있는지를 통계 모델 분석 및 시각화를 근거로 서술하세요.  "
      ]
    },
    {
      "cell_type": "code",
      "metadata": {
        "id": "Ui3LnSapH6ie"
      },
      "source": [
        "#sns.set(style='whitegrid') # whitegrid = 배경에 하얀 선\n",
        "#sns.pairplot(df_features)\n",
        "#plt.show()"
      ],
      "execution_count": 4,
      "outputs": []
    },
    {
      "cell_type": "code",
      "metadata": {
        "id": "Ym4PFmOOJrmD"
      },
      "source": [
        "# 열 이름 바꾸기 \n",
        "df_target.columns = ['Good_grade', 'Bad_grade']"
      ],
      "execution_count": 5,
      "outputs": []
    },
    {
      "cell_type": "code",
      "metadata": {
        "id": "8gwX26-XKm1H"
      },
      "source": [
        "# 각각 변수 지정 \n",
        "good_df = df_target[['Good_grade']]\n",
        "bad_df = df_target[['Bad_grade']]"
      ],
      "execution_count": 6,
      "outputs": []
    },
    {
      "cell_type": "code",
      "metadata": {
        "colab": {
          "base_uri": "https://localhost:8080/"
        },
        "id": "hGhaMHNXX6mM",
        "outputId": "49598872-e983-40bb-cb82-07140c008414"
      },
      "source": [
        "# 평균값 구하기(우등성적생)\n",
        "good_df.mean()"
      ],
      "execution_count": 7,
      "outputs": [
        {
          "output_type": "execute_result",
          "data": {
            "text/plain": [
              "Good_grade    357.815182\n",
              "dtype: float64"
            ]
          },
          "metadata": {},
          "execution_count": 7
        }
      ]
    },
    {
      "cell_type": "code",
      "metadata": {
        "colab": {
          "base_uri": "https://localhost:8080/"
        },
        "id": "BFguDaotX3-U",
        "outputId": "0427a690-e229-4c28-ab1c-34e660ef9949"
      },
      "source": [
        "# 평균값 구하기(열등성적생)\n",
        "bad_df.mean()"
      ],
      "execution_count": 8,
      "outputs": [
        {
          "output_type": "execute_result",
          "data": {
            "text/plain": [
              "Bad_grade    525.389439\n",
              "dtype: float64"
            ]
          },
          "metadata": {},
          "execution_count": 8
        }
      ]
    },
    {
      "cell_type": "code",
      "metadata": {
        "colab": {
          "base_uri": "https://localhost:8080/"
        },
        "id": "yu8HZf5L0_Kj",
        "outputId": "17fdbe90-2645-4dc4-afe8-ca2bf3836755"
      },
      "source": [
        "# '토탈'이라는 이름의 데이터프레임 만들기 \n",
        "df_target['sum'] = df_target.sum(axis=1)\n",
        "df_target['sum']"
      ],
      "execution_count": 9,
      "outputs": [
        {
          "output_type": "execute_result",
          "data": {
            "text/plain": [
              "0      807.0\n",
              "1      184.0\n",
              "2      571.0\n",
              "3      573.0\n",
              "4       65.0\n",
              "       ...  \n",
              "298    342.0\n",
              "299    154.0\n",
              "300    595.0\n",
              "301    709.0\n",
              "302    156.0\n",
              "Name: sum, Length: 303, dtype: float64"
            ]
          },
          "metadata": {},
          "execution_count": 9
        }
      ]
    },
    {
      "cell_type": "code",
      "metadata": {
        "id": "xrzgTIRD1QIN",
        "colab": {
          "base_uri": "https://localhost:8080/",
          "height": 408
        },
        "outputId": "c2ae5664-f51f-411b-c483-f0574824d216"
      },
      "source": [
        "# 행 별 학생수의 합을 나타내는 열 추가\n",
        "df_target"
      ],
      "execution_count": 10,
      "outputs": [
        {
          "output_type": "execute_result",
          "data": {
            "text/html": [
              "<div>\n",
              "<style scoped>\n",
              "    .dataframe tbody tr th:only-of-type {\n",
              "        vertical-align: middle;\n",
              "    }\n",
              "\n",
              "    .dataframe tbody tr th {\n",
              "        vertical-align: top;\n",
              "    }\n",
              "\n",
              "    .dataframe thead th {\n",
              "        text-align: right;\n",
              "    }\n",
              "</style>\n",
              "<table border=\"1\" class=\"dataframe\">\n",
              "  <thead>\n",
              "    <tr style=\"text-align: right;\">\n",
              "      <th></th>\n",
              "      <th>Good_grade</th>\n",
              "      <th>Bad_grade</th>\n",
              "      <th>sum</th>\n",
              "    </tr>\n",
              "  </thead>\n",
              "  <tbody>\n",
              "    <tr>\n",
              "      <th>0</th>\n",
              "      <td>452.0</td>\n",
              "      <td>355.0</td>\n",
              "      <td>807.0</td>\n",
              "    </tr>\n",
              "    <tr>\n",
              "      <th>1</th>\n",
              "      <td>144.0</td>\n",
              "      <td>40.0</td>\n",
              "      <td>184.0</td>\n",
              "    </tr>\n",
              "    <tr>\n",
              "      <th>2</th>\n",
              "      <td>337.0</td>\n",
              "      <td>234.0</td>\n",
              "      <td>571.0</td>\n",
              "    </tr>\n",
              "    <tr>\n",
              "      <th>3</th>\n",
              "      <td>395.0</td>\n",
              "      <td>178.0</td>\n",
              "      <td>573.0</td>\n",
              "    </tr>\n",
              "    <tr>\n",
              "      <th>4</th>\n",
              "      <td>8.0</td>\n",
              "      <td>57.0</td>\n",
              "      <td>65.0</td>\n",
              "    </tr>\n",
              "    <tr>\n",
              "      <th>...</th>\n",
              "      <td>...</td>\n",
              "      <td>...</td>\n",
              "      <td>...</td>\n",
              "    </tr>\n",
              "    <tr>\n",
              "      <th>298</th>\n",
              "      <td>96.0</td>\n",
              "      <td>246.0</td>\n",
              "      <td>342.0</td>\n",
              "    </tr>\n",
              "    <tr>\n",
              "      <th>299</th>\n",
              "      <td>37.0</td>\n",
              "      <td>117.0</td>\n",
              "      <td>154.0</td>\n",
              "    </tr>\n",
              "    <tr>\n",
              "      <th>300</th>\n",
              "      <td>208.0</td>\n",
              "      <td>387.0</td>\n",
              "      <td>595.0</td>\n",
              "    </tr>\n",
              "    <tr>\n",
              "      <th>301</th>\n",
              "      <td>199.0</td>\n",
              "      <td>510.0</td>\n",
              "      <td>709.0</td>\n",
              "    </tr>\n",
              "    <tr>\n",
              "      <th>302</th>\n",
              "      <td>72.0</td>\n",
              "      <td>84.0</td>\n",
              "      <td>156.0</td>\n",
              "    </tr>\n",
              "  </tbody>\n",
              "</table>\n",
              "<p>303 rows × 3 columns</p>\n",
              "</div>"
            ],
            "text/plain": [
              "     Good_grade  Bad_grade    sum\n",
              "0         452.0      355.0  807.0\n",
              "1         144.0       40.0  184.0\n",
              "2         337.0      234.0  571.0\n",
              "3         395.0      178.0  573.0\n",
              "4           8.0       57.0   65.0\n",
              "..          ...        ...    ...\n",
              "298        96.0      246.0  342.0\n",
              "299        37.0      117.0  154.0\n",
              "300       208.0      387.0  595.0\n",
              "301       199.0      510.0  709.0\n",
              "302        72.0       84.0  156.0\n",
              "\n",
              "[303 rows x 3 columns]"
            ]
          },
          "metadata": {},
          "execution_count": 10
        }
      ]
    },
    {
      "cell_type": "code",
      "metadata": {
        "id": "ogU2iQXC1DtD",
        "colab": {
          "base_uri": "https://localhost:8080/",
          "height": 37
        },
        "outputId": "6492903f-bd46-4581-8e4d-6eafe207b3aa"
      },
      "source": [
        "# 전체 학생 수 \n",
        "df_target['sum'].sum()"
      ],
      "execution_count": 11,
      "outputs": [
        {
          "output_type": "execute_result",
          "data": {
            "text/latex": "$\\displaystyle 267611.0$",
            "text/plain": [
              "267611.0"
            ]
          },
          "metadata": {},
          "execution_count": 11
        }
      ]
    },
    {
      "cell_type": "code",
      "metadata": {
        "id": "4zSYTIF6r5zY"
      },
      "source": [
        "#원하는 열 분리하기\n",
        "#분리한 열만 시각화\n",
        "#그래프 그려서 비교하기\n",
        "#상관 관계 설명하기\n",
        "#변수 여러개 지정 하기\n",
        "#각 변수별 평균 구하기 그리고 평균 위 아래 구분 하기\n",
        "#전체 학생수 × 인종 비율 = 실제 인종별 학생 수  "
      ],
      "execution_count": 12,
      "outputs": []
    },
    {
      "cell_type": "code",
      "metadata": {
        "id": "gpRHewC3r5sw"
      },
      "source": [
        "# 원하는 열 분리하기\n",
        "# 인종별 학생비율표 \n",
        "data = df_features[['PERASIAN','PERBLACK','PERHISP','PERMINTE']]\n",
        "data.columns = ['아시아계', '흑인계', '히스패닉계', '소수인종']"
      ],
      "execution_count": 13,
      "outputs": []
    },
    {
      "cell_type": "code",
      "metadata": {
        "colab": {
          "base_uri": "https://localhost:8080/",
          "height": 408
        },
        "id": "jxXguzz4KaVw",
        "outputId": "f5e06949-5ab9-4c76-a5e6-e8bc2f91a1cc"
      },
      "source": [
        "data = df_features[['PERASIAN']]\n",
        "data.columns = ['아시아계']\n",
        "data.sort_values('아시아계', ascending=False)"
      ],
      "execution_count": 14,
      "outputs": [
        {
          "output_type": "execute_result",
          "data": {
            "text/html": [
              "<div>\n",
              "<style scoped>\n",
              "    .dataframe tbody tr th:only-of-type {\n",
              "        vertical-align: middle;\n",
              "    }\n",
              "\n",
              "    .dataframe tbody tr th {\n",
              "        vertical-align: top;\n",
              "    }\n",
              "\n",
              "    .dataframe thead th {\n",
              "        text-align: right;\n",
              "    }\n",
              "</style>\n",
              "<table border=\"1\" class=\"dataframe\">\n",
              "  <thead>\n",
              "    <tr style=\"text-align: right;\">\n",
              "      <th></th>\n",
              "      <th>아시아계</th>\n",
              "    </tr>\n",
              "  </thead>\n",
              "  <tbody>\n",
              "    <tr>\n",
              "      <th>116</th>\n",
              "      <td>63.20234</td>\n",
              "    </tr>\n",
              "    <tr>\n",
              "      <th>85</th>\n",
              "      <td>52.59396</td>\n",
              "    </tr>\n",
              "    <tr>\n",
              "      <th>125</th>\n",
              "      <td>42.31389</td>\n",
              "    </tr>\n",
              "    <tr>\n",
              "      <th>231</th>\n",
              "      <td>41.36902</td>\n",
              "    </tr>\n",
              "    <tr>\n",
              "      <th>119</th>\n",
              "      <td>38.10775</td>\n",
              "    </tr>\n",
              "    <tr>\n",
              "      <th>...</th>\n",
              "      <td>...</td>\n",
              "    </tr>\n",
              "    <tr>\n",
              "      <th>64</th>\n",
              "      <td>0.00000</td>\n",
              "    </tr>\n",
              "    <tr>\n",
              "      <th>147</th>\n",
              "      <td>0.00000</td>\n",
              "    </tr>\n",
              "    <tr>\n",
              "      <th>55</th>\n",
              "      <td>0.00000</td>\n",
              "    </tr>\n",
              "    <tr>\n",
              "      <th>77</th>\n",
              "      <td>0.00000</td>\n",
              "    </tr>\n",
              "    <tr>\n",
              "      <th>83</th>\n",
              "      <td>0.00000</td>\n",
              "    </tr>\n",
              "  </tbody>\n",
              "</table>\n",
              "<p>303 rows × 1 columns</p>\n",
              "</div>"
            ],
            "text/plain": [
              "         아시아계\n",
              "116  63.20234\n",
              "85   52.59396\n",
              "125  42.31389\n",
              "231  41.36902\n",
              "119  38.10775\n",
              "..        ...\n",
              "64    0.00000\n",
              "147   0.00000\n",
              "55    0.00000\n",
              "77    0.00000\n",
              "83    0.00000\n",
              "\n",
              "[303 rows x 1 columns]"
            ]
          },
          "metadata": {},
          "execution_count": 14
        }
      ]
    },
    {
      "cell_type": "code",
      "metadata": {
        "colab": {
          "base_uri": "https://localhost:8080/",
          "height": 37
        },
        "id": "ythEFioqLQTG",
        "outputId": "394cb702-9bec-401d-8eb9-673cf0b98bd5"
      },
      "source": [
        "# 아시아계 학생비율의 평균값 = 아시아계 학생들의 총합 / 아시아 학생 조사 수 \n",
        "total_asia = df_features['PERASIAN'].sum()\n",
        "total_asia\n",
        "asia_mean = total_asia / 303\n",
        "asia_mean\n",
        "# 아시아계 학생들의 평균 비율은 5.89퍼센트?"
      ],
      "execution_count": 15,
      "outputs": [
        {
          "output_type": "execute_result",
          "data": {
            "text/latex": "$\\displaystyle 5.89633540264026$",
            "text/plain": [
              "5.896335402640264"
            ]
          },
          "metadata": {},
          "execution_count": 15
        }
      ]
    },
    {
      "cell_type": "code",
      "metadata": {
        "colab": {
          "base_uri": "https://localhost:8080/",
          "height": 37
        },
        "id": "AmE5851dq2zi",
        "outputId": "cafca389-5a59-43fb-9541-d9537cbeaded"
      },
      "source": [
        "df_target['sum'].sum() * asia_mean"
      ],
      "execution_count": 16,
      "outputs": [
        {
          "output_type": "execute_result",
          "data": {
            "text/latex": "$\\displaystyle 1577924.21343596$",
            "text/plain": [
              "1577924.2134359637"
            ]
          },
          "metadata": {},
          "execution_count": 16
        }
      ]
    },
    {
      "cell_type": "code",
      "metadata": {
        "colab": {
          "base_uri": "https://localhost:8080/",
          "height": 408
        },
        "id": "S1p6BKubKaRx",
        "outputId": "b394a958-e735-448b-9905-c4a1bb6eb199"
      },
      "source": [
        "data = df_features[['PERBLACK']]\n",
        "data.columns = ['흑인계']\n",
        "data.sort_values('흑인계', ascending=False)"
      ],
      "execution_count": 17,
      "outputs": [
        {
          "output_type": "execute_result",
          "data": {
            "text/html": [
              "<div>\n",
              "<style scoped>\n",
              "    .dataframe tbody tr th:only-of-type {\n",
              "        vertical-align: middle;\n",
              "    }\n",
              "\n",
              "    .dataframe tbody tr th {\n",
              "        vertical-align: top;\n",
              "    }\n",
              "\n",
              "    .dataframe thead th {\n",
              "        text-align: right;\n",
              "    }\n",
              "</style>\n",
              "<table border=\"1\" class=\"dataframe\">\n",
              "  <thead>\n",
              "    <tr style=\"text-align: right;\">\n",
              "      <th></th>\n",
              "      <th>흑인계</th>\n",
              "    </tr>\n",
              "  </thead>\n",
              "  <tbody>\n",
              "    <tr>\n",
              "      <th>4</th>\n",
              "      <td>76.87500</td>\n",
              "    </tr>\n",
              "    <tr>\n",
              "      <th>10</th>\n",
              "      <td>50.94093</td>\n",
              "    </tr>\n",
              "    <tr>\n",
              "      <th>103</th>\n",
              "      <td>43.09138</td>\n",
              "    </tr>\n",
              "    <tr>\n",
              "      <th>2</th>\n",
              "      <td>42.40631</td>\n",
              "    </tr>\n",
              "    <tr>\n",
              "      <th>122</th>\n",
              "      <td>35.72962</td>\n",
              "    </tr>\n",
              "    <tr>\n",
              "      <th>...</th>\n",
              "      <td>...</td>\n",
              "    </tr>\n",
              "    <tr>\n",
              "      <th>57</th>\n",
              "      <td>0.00000</td>\n",
              "    </tr>\n",
              "    <tr>\n",
              "      <th>142</th>\n",
              "      <td>0.00000</td>\n",
              "    </tr>\n",
              "    <tr>\n",
              "      <th>25</th>\n",
              "      <td>0.00000</td>\n",
              "    </tr>\n",
              "    <tr>\n",
              "      <th>281</th>\n",
              "      <td>0.00000</td>\n",
              "    </tr>\n",
              "    <tr>\n",
              "      <th>147</th>\n",
              "      <td>0.00000</td>\n",
              "    </tr>\n",
              "  </tbody>\n",
              "</table>\n",
              "<p>303 rows × 1 columns</p>\n",
              "</div>"
            ],
            "text/plain": [
              "          흑인계\n",
              "4    76.87500\n",
              "10   50.94093\n",
              "103  43.09138\n",
              "2    42.40631\n",
              "122  35.72962\n",
              "..        ...\n",
              "57    0.00000\n",
              "142   0.00000\n",
              "25    0.00000\n",
              "281   0.00000\n",
              "147   0.00000\n",
              "\n",
              "[303 rows x 1 columns]"
            ]
          },
          "metadata": {},
          "execution_count": 17
        }
      ]
    },
    {
      "cell_type": "code",
      "metadata": {
        "colab": {
          "base_uri": "https://localhost:8080/",
          "height": 37
        },
        "id": "JFk299McLXJT",
        "outputId": "4f75706d-8fc3-422a-c295-01055332c207"
      },
      "source": [
        "# 흑인계 학생비율의 평균값 \n",
        "df_features['PERBLACK'].mean()"
      ],
      "execution_count": 18,
      "outputs": [
        {
          "output_type": "execute_result",
          "data": {
            "text/latex": "$\\displaystyle 5.6368075709571$",
            "text/plain": [
              "5.636807570957095"
            ]
          },
          "metadata": {},
          "execution_count": 18
        }
      ]
    },
    {
      "cell_type": "code",
      "metadata": {
        "colab": {
          "base_uri": "https://localhost:8080/",
          "height": 408
        },
        "id": "K9pw9RjgKaNM",
        "outputId": "69f48bc6-8438-41fe-aeb1-a9e8f94baa48"
      },
      "source": [
        "data = df_features[['PERHISP']]\n",
        "data.columns = ['히스패닉계']\n",
        "data.sort_values('히스패닉계', ascending=False)"
      ],
      "execution_count": 19,
      "outputs": [
        {
          "output_type": "execute_result",
          "data": {
            "text/html": [
              "<div>\n",
              "<style scoped>\n",
              "    .dataframe tbody tr th:only-of-type {\n",
              "        vertical-align: middle;\n",
              "    }\n",
              "\n",
              "    .dataframe tbody tr th {\n",
              "        vertical-align: top;\n",
              "    }\n",
              "\n",
              "    .dataframe thead th {\n",
              "        text-align: right;\n",
              "    }\n",
              "</style>\n",
              "<table border=\"1\" class=\"dataframe\">\n",
              "  <thead>\n",
              "    <tr style=\"text-align: right;\">\n",
              "      <th></th>\n",
              "      <th>히스패닉계</th>\n",
              "    </tr>\n",
              "  </thead>\n",
              "  <tbody>\n",
              "    <tr>\n",
              "      <th>43</th>\n",
              "      <td>98.821000</td>\n",
              "    </tr>\n",
              "    <tr>\n",
              "      <th>49</th>\n",
              "      <td>97.769160</td>\n",
              "    </tr>\n",
              "    <tr>\n",
              "      <th>59</th>\n",
              "      <td>97.519980</td>\n",
              "    </tr>\n",
              "    <tr>\n",
              "      <th>186</th>\n",
              "      <td>96.167130</td>\n",
              "    </tr>\n",
              "    <tr>\n",
              "      <th>99</th>\n",
              "      <td>94.480520</td>\n",
              "    </tr>\n",
              "    <tr>\n",
              "      <th>...</th>\n",
              "      <td>...</td>\n",
              "    </tr>\n",
              "    <tr>\n",
              "      <th>56</th>\n",
              "      <td>2.988954</td>\n",
              "    </tr>\n",
              "    <tr>\n",
              "      <th>55</th>\n",
              "      <td>2.842566</td>\n",
              "    </tr>\n",
              "    <tr>\n",
              "      <th>11</th>\n",
              "      <td>2.587519</td>\n",
              "    </tr>\n",
              "    <tr>\n",
              "      <th>294</th>\n",
              "      <td>2.345216</td>\n",
              "    </tr>\n",
              "    <tr>\n",
              "      <th>35</th>\n",
              "      <td>2.251407</td>\n",
              "    </tr>\n",
              "  </tbody>\n",
              "</table>\n",
              "<p>303 rows × 1 columns</p>\n",
              "</div>"
            ],
            "text/plain": [
              "         히스패닉계\n",
              "43   98.821000\n",
              "49   97.769160\n",
              "59   97.519980\n",
              "186  96.167130\n",
              "99   94.480520\n",
              "..         ...\n",
              "56    2.988954\n",
              "55    2.842566\n",
              "11    2.587519\n",
              "294   2.345216\n",
              "35    2.251407\n",
              "\n",
              "[303 rows x 1 columns]"
            ]
          },
          "metadata": {},
          "execution_count": 19
        }
      ]
    },
    {
      "cell_type": "code",
      "metadata": {
        "colab": {
          "base_uri": "https://localhost:8080/",
          "height": 37
        },
        "id": "_qMCbroULb8u",
        "outputId": "efef06d3-f6cf-4fb6-f1d9-2b80a7780039"
      },
      "source": [
        "# 히스패닉계 학생비율의 평균값 \n",
        "df_features['PERHISP'].mean()"
      ],
      "execution_count": 20,
      "outputs": [
        {
          "output_type": "execute_result",
          "data": {
            "text/latex": "$\\displaystyle 34.3980796666667$",
            "text/plain": [
              "34.39807966666665"
            ]
          },
          "metadata": {},
          "execution_count": 20
        }
      ]
    },
    {
      "cell_type": "code",
      "metadata": {
        "colab": {
          "base_uri": "https://localhost:8080/",
          "height": 408
        },
        "id": "oev9NUZ8KaFR",
        "outputId": "689d19c4-808d-4ac8-c170-dd69f2c93d14"
      },
      "source": [
        "data = df_features[['PERMINTE']]\n",
        "data.columns = ['소수인종']\n",
        "data.sort_values('소수인종', ascending=False)"
      ],
      "execution_count": 21,
      "outputs": [
        {
          "output_type": "execute_result",
          "data": {
            "text/html": [
              "<div>\n",
              "<style scoped>\n",
              "    .dataframe tbody tr th:only-of-type {\n",
              "        vertical-align: middle;\n",
              "    }\n",
              "\n",
              "    .dataframe tbody tr th {\n",
              "        vertical-align: top;\n",
              "    }\n",
              "\n",
              "    .dataframe thead th {\n",
              "        text-align: right;\n",
              "    }\n",
              "</style>\n",
              "<table border=\"1\" class=\"dataframe\">\n",
              "  <thead>\n",
              "    <tr style=\"text-align: right;\">\n",
              "      <th></th>\n",
              "      <th>소수인종</th>\n",
              "    </tr>\n",
              "  </thead>\n",
              "  <tbody>\n",
              "    <tr>\n",
              "      <th>122</th>\n",
              "      <td>80.174930</td>\n",
              "    </tr>\n",
              "    <tr>\n",
              "      <th>59</th>\n",
              "      <td>70.099670</td>\n",
              "    </tr>\n",
              "    <tr>\n",
              "      <th>103</th>\n",
              "      <td>63.439070</td>\n",
              "    </tr>\n",
              "    <tr>\n",
              "      <th>43</th>\n",
              "      <td>62.184870</td>\n",
              "    </tr>\n",
              "    <tr>\n",
              "      <th>110</th>\n",
              "      <td>59.529810</td>\n",
              "    </tr>\n",
              "    <tr>\n",
              "      <th>...</th>\n",
              "      <td>...</td>\n",
              "    </tr>\n",
              "    <tr>\n",
              "      <th>135</th>\n",
              "      <td>1.459854</td>\n",
              "    </tr>\n",
              "    <tr>\n",
              "      <th>81</th>\n",
              "      <td>1.204819</td>\n",
              "    </tr>\n",
              "    <tr>\n",
              "      <th>136</th>\n",
              "      <td>0.000000</td>\n",
              "    </tr>\n",
              "    <tr>\n",
              "      <th>57</th>\n",
              "      <td>0.000000</td>\n",
              "    </tr>\n",
              "    <tr>\n",
              "      <th>56</th>\n",
              "      <td>0.000000</td>\n",
              "    </tr>\n",
              "  </tbody>\n",
              "</table>\n",
              "<p>303 rows × 1 columns</p>\n",
              "</div>"
            ],
            "text/plain": [
              "          소수인종\n",
              "122  80.174930\n",
              "59   70.099670\n",
              "103  63.439070\n",
              "43   62.184870\n",
              "110  59.529810\n",
              "..         ...\n",
              "135   1.459854\n",
              "81    1.204819\n",
              "136   0.000000\n",
              "57    0.000000\n",
              "56    0.000000\n",
              "\n",
              "[303 rows x 1 columns]"
            ]
          },
          "metadata": {},
          "execution_count": 21
        }
      ]
    },
    {
      "cell_type": "code",
      "metadata": {
        "colab": {
          "base_uri": "https://localhost:8080/",
          "height": 37
        },
        "id": "ZwBHgB67IAcQ",
        "outputId": "d31bddb9-8487-44ce-d0da-666744d600e4"
      },
      "source": [
        "# 소수 인종 학생비율의 평균값 \n",
        "df_features['PERMINTE'].mean()"
      ],
      "execution_count": 22,
      "outputs": [
        {
          "output_type": "execute_result",
          "data": {
            "text/latex": "$\\displaystyle 14.6947468217822$",
            "text/plain": [
              "14.694746821782173"
            ]
          },
          "metadata": {},
          "execution_count": 22
        }
      ]
    },
    {
      "cell_type": "code",
      "metadata": {
        "colab": {
          "base_uri": "https://localhost:8080/",
          "height": 408
        },
        "id": "5b2oiwtWr5kM",
        "outputId": "0433e2d0-969b-4b95-97c4-89ec5294ff4b"
      },
      "source": [
        "# 저소득층 학생비율 만 존재하는 열 생성\n",
        "data_low = df_features[['LOWINC']]\n",
        "data_low.columns = ['저소득층']\n",
        "data_low.sort_values('저소득층', ascending=False)"
      ],
      "execution_count": 23,
      "outputs": [
        {
          "output_type": "execute_result",
          "data": {
            "text/html": [
              "<div>\n",
              "<style scoped>\n",
              "    .dataframe tbody tr th:only-of-type {\n",
              "        vertical-align: middle;\n",
              "    }\n",
              "\n",
              "    .dataframe tbody tr th {\n",
              "        vertical-align: top;\n",
              "    }\n",
              "\n",
              "    .dataframe thead th {\n",
              "        text-align: right;\n",
              "    }\n",
              "</style>\n",
              "<table border=\"1\" class=\"dataframe\">\n",
              "  <thead>\n",
              "    <tr style=\"text-align: right;\">\n",
              "      <th></th>\n",
              "      <th>저소득층</th>\n",
              "    </tr>\n",
              "  </thead>\n",
              "  <tbody>\n",
              "    <tr>\n",
              "      <th>287</th>\n",
              "      <td>92.334500</td>\n",
              "    </tr>\n",
              "    <tr>\n",
              "      <th>43</th>\n",
              "      <td>91.604840</td>\n",
              "    </tr>\n",
              "    <tr>\n",
              "      <th>46</th>\n",
              "      <td>87.837180</td>\n",
              "    </tr>\n",
              "    <tr>\n",
              "      <th>49</th>\n",
              "      <td>87.777250</td>\n",
              "    </tr>\n",
              "    <tr>\n",
              "      <th>50</th>\n",
              "      <td>86.545990</td>\n",
              "    </tr>\n",
              "    <tr>\n",
              "      <th>...</th>\n",
              "      <td>...</td>\n",
              "    </tr>\n",
              "    <tr>\n",
              "      <th>104</th>\n",
              "      <td>1.421801</td>\n",
              "    </tr>\n",
              "    <tr>\n",
              "      <th>294</th>\n",
              "      <td>1.247051</td>\n",
              "    </tr>\n",
              "    <tr>\n",
              "      <th>116</th>\n",
              "      <td>0.265340</td>\n",
              "    </tr>\n",
              "    <tr>\n",
              "      <th>11</th>\n",
              "      <td>0.000000</td>\n",
              "    </tr>\n",
              "    <tr>\n",
              "      <th>134</th>\n",
              "      <td>0.000000</td>\n",
              "    </tr>\n",
              "  </tbody>\n",
              "</table>\n",
              "<p>303 rows × 1 columns</p>\n",
              "</div>"
            ],
            "text/plain": [
              "          저소득층\n",
              "287  92.334500\n",
              "43   91.604840\n",
              "46   87.837180\n",
              "49   87.777250\n",
              "50   86.545990\n",
              "..         ...\n",
              "104   1.421801\n",
              "294   1.247051\n",
              "116   0.265340\n",
              "11    0.000000\n",
              "134   0.000000\n",
              "\n",
              "[303 rows x 1 columns]"
            ]
          },
          "metadata": {},
          "execution_count": 23
        }
      ]
    },
    {
      "cell_type": "code",
      "metadata": {
        "colab": {
          "base_uri": "https://localhost:8080/"
        },
        "id": "pdGt7vJqHwoG",
        "outputId": "cdd0569c-4c34-4978-82b4-e4b35a4f5931"
      },
      "source": [
        "# 저소득층 학생들의 평균 비율\n",
        "data_low.mean()"
      ],
      "execution_count": 24,
      "outputs": [
        {
          "output_type": "execute_result",
          "data": {
            "text/plain": [
              "저소득층    41.409877\n",
              "dtype: float64"
            ]
          },
          "metadata": {},
          "execution_count": 24
        }
      ]
    },
    {
      "cell_type": "code",
      "metadata": {
        "id": "uZ5Eqep4NG0Q"
      },
      "source": [
        ""
      ],
      "execution_count": 24,
      "outputs": []
    },
    {
      "cell_type": "code",
      "metadata": {
        "id": "p-xU2OuINGxv"
      },
      "source": [
        ""
      ],
      "execution_count": 24,
      "outputs": []
    }
  ]
}