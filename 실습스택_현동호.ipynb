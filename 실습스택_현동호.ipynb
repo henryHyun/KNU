{
  "nbformat": 4,
  "nbformat_minor": 0,
  "metadata": {
    "colab": {
      "name": "실습스택_현동호.ipynb",
      "provenance": [],
      "collapsed_sections": [],
      "authorship_tag": "ABX9TyO/ToDzo+MfbWGPYT78uZ8l",
      "include_colab_link": true
    },
    "kernelspec": {
      "name": "python3",
      "display_name": "Python 3"
    },
    "language_info": {
      "name": "python"
    }
  },
  "cells": [
    {
      "cell_type": "markdown",
      "metadata": {
        "id": "view-in-github",
        "colab_type": "text"
      },
      "source": [
        "<a href=\"https://colab.research.google.com/github/henryHyun/KNU/blob/main/%EC%8B%A4%EC%8A%B5%EC%8A%A4%ED%83%9D_%ED%98%84%EB%8F%99%ED%98%B8.ipynb\" target=\"_parent\"><img src=\"https://colab.research.google.com/assets/colab-badge.svg\" alt=\"Open In Colab\"/></a>"
      ]
    },
    {
      "cell_type": "code",
      "execution_count": null,
      "metadata": {
        "id": "Pl7MjFr83vpG",
        "colab": {
          "base_uri": "https://localhost:8080/"
        },
        "outputId": "8429d345-29ba-44d4-bb18-72deca92978f"
      },
      "outputs": [
        {
          "name": "stdout",
          "output_type": "stream",
          "text": [
            "다음을 선택하세요. (0:종료 1:주차 2:출차 3:주차공간확인): 0\n"
          ]
        }
      ],
      "source": [
        "park = []\n",
        "stack = []\n",
        "\n",
        "while True:\n",
        "    a = input('다음을 선택하세요. (0:종료 1:주차 2:출차 3:주차공간확인): ')\n",
        "    if not 0 <= int(a) <= 3:\n",
        "        print(\"입력값은 0, 1, 2, 3만 가능합니다.\")\n",
        "        continue\n",
        "    a = int(a)\n",
        "\n",
        "    if a == 0:\n",
        "        break\n",
        "\n",
        "    elif a == 1:\n",
        "        if len(park) >= 5:\n",
        "            print(\"만차입니다.\")\n",
        "            continue\n",
        "\n",
        "        car_num = input('차량 번호 입력: ')\n",
        "        if car_num in park:\n",
        "            print(\"이미 등록되어있는 차량입니다.\")\n",
        "        else:\n",
        "            park.append(car_num)\n",
        "        print(\"차량번호\", car_num, \"주차완료, 주차대수:\", len(park))\n",
        "\n",
        "    elif a == 2:\n",
        "        car_num = input('차량 번호 입력: ')\n",
        "        while park:\n",
        "            car = park.pop()\n",
        "            if car == car_num:\n",
        "                break\n",
        "            stack.append(car)\n",
        "        cnt = len(stack)\n",
        "\n",
        "        while stack:\n",
        "            park.append(stack.pop())\n",
        "\n",
        "        if car == car_num:\n",
        "            print(\"차량번호\", car, \"출차합니다.\")\n",
        "            if cnt:\n",
        "                print(cnt, \"대 차량 재주차 완료!\")\n",
        "        else:\n",
        "            print(\"이미 출차된 차량입니다.\")\n",
        "\n",
        "    elif a == 3:\n",
        "        print(\" * 주차 공간 현황 *\")\n",
        "        print(\"주차가능 공간:\", 5-len(park))\n",
        "        print(\"주차차량 대수:\", len(park))\n",
        "        print(\"주차차량:\")\n",
        "        for car in park:\n",
        "            print(car)"
      ]
    }
  ]
}