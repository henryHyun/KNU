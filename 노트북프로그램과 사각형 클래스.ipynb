{
  "cells": [
    {
      "cell_type": "markdown",
      "metadata": {
        "id": "view-in-github",
        "colab_type": "text"
      },
      "source": [
        "<a href=\"https://colab.research.google.com/github/henryHyun/KNU/blob/main/%EB%85%B8%ED%8A%B8%EB%B6%81%ED%94%84%EB%A1%9C%EA%B7%B8%EB%9E%A8%EA%B3%BC%20%EC%82%AC%EA%B0%81%ED%98%95%20%ED%81%B4%EB%9E%98%EC%8A%A4.ipynb\" target=\"_parent\"><img src=\"https://colab.research.google.com/assets/colab-badge.svg\" alt=\"Open In Colab\"/></a>"
      ]
    },
    {
      "cell_type": "markdown",
      "metadata": {
        "id": "1Ko4xFBbpQay"
      },
      "source": [
        "### 클래스 정의\n",
        "속성초기화 함수 선언  \n",
        "함수 선언  "
      ]
    },
    {
      "cell_type": "markdown",
      "metadata": {
        "id": "ORwgw7kOpQbC"
      },
      "source": [
        "### Notebook 프로그램"
      ]
    },
    {
      "cell_type": "code",
      "execution_count": null,
      "metadata": {
        "id": "2ixdzz49pQbC"
      },
      "outputs": [],
      "source": [
        "class Note(object):\n",
        "    def __init__(self, contents):\n",
        "        self.contents = contents\n",
        "\n",
        "    def remove(self):\n",
        "        self.contents = \"삭제된 노트입니다.\"\n",
        "\n",
        "    def __str__(self):\n",
        "        return self.contents\n",
        "\n",
        "\n",
        "class NoteBook(object):\n",
        "    def __init__(self, title):\n",
        "        self.title = title\n",
        "        self.nextpage = 1\n",
        "        self.notes = {}\n",
        "\n",
        "    def add_note(self, note, page=0):\n",
        "        if len(self.notes.keys()) < 300:\n",
        "            if (page == 0):\n",
        "                self.notes[self.nextpage] = note\n",
        "                print(self.nextpage,  \"page 추가합니다.\")\n",
        "                self.nextpage += 1\n",
        "            else:\n",
        "                if (page not in self.notes.keys()):\n",
        "                    self.notes[page] = note\n",
        "                    print(page,  \"page 삽입합니다.\")\n",
        "                else:\n",
        "                    print(page,  \"page에 노트가 존재합니다.\")\n",
        "        else:\n",
        "            print(\"더 이상 노트를 추가하지 못합니다.\")\n",
        "\n",
        "    def remove_note(self, page):\n",
        "        if (page in self.notes.keys()):\n",
        "            del self.notes[page]\n",
        "            print(page,  \"page 노트를 삭제합니다.\")\n",
        "        else:\n",
        "            print(page,  \"page는 존재하지 않습니다.\")         \n",
        "                \n",
        "    def print_all_pages(self):\n",
        "        s = sorted(self.notes.items())\n",
        "        for k,v in s:\n",
        "            print(k,v)\n",
        "\n",
        "    def __str__(self):\n",
        "        return \"노트북 제목 : \" + self.title + \", 총페이지수 :  \" + str(len(self.notes.keys()))\n",
        "\n",
        "    def getPage(self, page):\n",
        "      if (page in self.notes.keys()):\n",
        "            return self.notes[page]"
      ]
    },
    {
      "cell_type": "code",
      "execution_count": null,
      "metadata": {
        "colab": {
          "base_uri": "https://localhost:8080/"
        },
        "id": "gNqcOTLqpQbC",
        "outputId": "da945903-83e0-48fc-f8a5-583a15c3b3bb"
      },
      "outputs": [
        {
          "output_type": "stream",
          "name": "stdout",
          "text": [
            "진정한 벗은 제2의 자신이다. -아리스토텔레스\n",
            "삭제된 노트입니다.\n",
            "노트북 제목 : 명언 노트, 총페이지수 :  0\n",
            "1 page 추가합니다.\n",
            "2 page 추가합니다.\n",
            "노트북 제목 : 명언 노트, 총페이지수 :  2\n",
            "1 오늘보다 더 가치있는 것은 없다. - 괴테 \n",
            "2 시간은 모든것을 밝혀낸다. - 에라스무스\n",
            "1 page 노트를 삭제합니다.\n",
            "노트북 제목 : 명언 노트, 총페이지수 :  1\n",
            "2 시간은 모든것을 밝혀낸다. - 에라스무스\n",
            "3 page 추가합니다.\n",
            "노트북 제목 : 명언 노트, 총페이지수 :  2\n",
            "2 시간은 모든것을 밝혀낸다. - 에라스무스\n",
            "3 진정한 벗은 제2의 자신이다. -아리스토텔레스\n",
            "1 page 삽입합니다.\n",
            "노트북 제목 : 명언 노트, 총페이지수 :  3\n",
            "5 page 삽입합니다.\n",
            "6 page 삽입합니다.\n",
            "la buena vida. -Enrique\n"
          ]
        }
      ],
      "source": [
        "#Note 생성 및 삭제\n",
        "good_sentence = \"\"\"진정한 벗은 제2의 자신이다. -아리스토텔레스\"\"\"\n",
        "note_1 = Note(good_sentence)\n",
        "\n",
        "print(note_1)\n",
        "note_1.remove()\n",
        "print(note_1)\n",
        "\n",
        "#NoteBook 생성\n",
        "wise_saying_notebook = NoteBook(\"명언 노트\")\n",
        "print(wise_saying_notebook)\n",
        "#Note 생성\n",
        "good_sentence = \"\"\"오늘보다 더 가치있는 것은 없다. - 괴테 \"\"\"\n",
        "note_2 = Note(good_sentence)\n",
        "good_sentence = \"\"\"시간은 모든것을 밝혀낸다. - 에라스무스\"\"\"\n",
        "note_3 = Note(good_sentence)\n",
        "#NoteBook에 Note 추가\n",
        "wise_saying_notebook.add_note(note_2)  #다음 페이지에 추가\n",
        "wise_saying_notebook.add_note(note_3)  #다음 페이지에 추가\n",
        "print(wise_saying_notebook)\n",
        "wise_saying_notebook.print_all_pages()\n",
        "#NoteBook에서 Note 삭제\n",
        "wise_saying_notebook.remove_note(1)  #1 페이지 삭제\n",
        "print(wise_saying_notebook)\n",
        "wise_saying_notebook.print_all_pages()\n",
        "#NoteBook에서 Note 추가\n",
        "good_sentence = \"\"\"진정한 벗은 제2의 자신이다. -아리스토텔레스\"\"\"\n",
        "note_1 = Note(good_sentence)\n",
        "wise_saying_notebook.add_note(note_1)   #다음 페이지에 추가\n",
        "print(wise_saying_notebook)\n",
        "wise_saying_notebook.print_all_pages()\n",
        "#NoteBook에서 Note 삽입\n",
        "wise_saying_notebook.add_note(note_2,1) #1 page에 삽입\n",
        "print(wise_saying_notebook)\n",
        "#wise_saying_notebook.print_all_pages()\n",
        "\n",
        "\n",
        "\n",
        "good_sentence = \"\"\"천천히 똑바로. -현동호\"\"\"\n",
        "note_4 = Note(good_sentence)\n",
        "good_sentence = \"\"\"la buena vida. -Enrique\"\"\"\n",
        "note_5 = Note(good_sentence)\n",
        "wise_saying_notebook.add_note(note_4,5)  #다음 페이지에 추가\n",
        "wise_saying_notebook.add_note(note_5,6)\n",
        "\n",
        "page_1 = wise_saying_notebook.getPage(6)\n",
        "print(page_1)"
      ]
    },
    {
      "cell_type": "markdown",
      "metadata": {
        "id": "F4iDx_cMpQbD"
      },
      "source": [
        "### Report 9. 객체지향 프로그래밍 연습\n",
        "1.  노트북 프로그램에 기능 추가  \n",
        "1) NoteBook class에 해당 페이지를 얻어 내용을 확인하는 객체함수     \n",
        "   (getPage()) 추가  \n",
        "2) NoteBook 객체에  본인이 좋아하는 5개의 명언을 추가  \n",
        "3) 4 페이지의 내용을 getPage()로  확인  "
      ]
    },
    {
      "cell_type": "markdown",
      "metadata": {
        "id": "MxB_qu06pQbD"
      },
      "source": [
        "2. 사각형(Rectangle) 클래스를 정의하여 사각형의 면적과 둘레를 계산하는 프로그램 작성  \n",
        "사각형 객체로 구성된  리스트 이용  \n",
        "rlist = [Rectangle(100,200), Rectangle(10,20)]  "
      ]
    },
    {
      "cell_type": "code",
      "execution_count": null,
      "metadata": {
        "id": "5SK-FV2hpQbD"
      },
      "outputs": [],
      "source": [
        "class Rectangle(object):\n",
        "  def __init__(self, w, h):\n",
        "    self.w = w\n",
        "    self.h = h\n",
        "\n",
        "  def area(self):\n",
        "    area = self.w * self.h\n",
        "    return area\n",
        "\n",
        "  def length(self):\n",
        "    length = (self.w + self.h) * 2 \n",
        "    return length\n",
        "\n",
        "  def __str__(self):\n",
        "    rec = \"넓이 : %.2f\" %(self.area()) + \", \"\n",
        "    rec += \"둘레 : %.2f\" %(self.length())\n",
        "    return rec"
      ]
    },
    {
      "cell_type": "code",
      "source": [
        "my_r = Rectangle(10,20)\n",
        "print(my_r)\n",
        "rlist = [Rectangle(100, 200), Rectangle(10,20)]\n",
        "\n",
        "for i in rlist:\n",
        "  print(i)"
      ],
      "metadata": {
        "colab": {
          "base_uri": "https://localhost:8080/"
        },
        "id": "cD0bLStgwqZD",
        "outputId": "63e1d038-cdd8-4b0a-cae0-6e241c871cdf"
      },
      "execution_count": null,
      "outputs": [
        {
          "output_type": "stream",
          "name": "stdout",
          "text": [
            "넓이 : 200.00, 둘레 : 60.00\n",
            "넓이 : 20000.00, 둘레 : 600.00\n",
            "넓이 : 200.00, 둘레 : 60.00\n"
          ]
        }
      ]
    }
  ],
  "metadata": {
    "kernelspec": {
      "display_name": "Python 3",
      "language": "python",
      "name": "python3"
    },
    "language_info": {
      "codemirror_mode": {
        "name": "ipython",
        "version": 3
      },
      "file_extension": ".py",
      "mimetype": "text/x-python",
      "name": "python",
      "nbconvert_exporter": "python",
      "pygments_lexer": "ipython3",
      "version": "3.8.5"
    },
    "colab": {
      "name": "report9_객체지향_ 현동호.ipynb",
      "provenance": [],
      "collapsed_sections": [],
      "include_colab_link": true
    }
  },
  "nbformat": 4,
  "nbformat_minor": 0
}